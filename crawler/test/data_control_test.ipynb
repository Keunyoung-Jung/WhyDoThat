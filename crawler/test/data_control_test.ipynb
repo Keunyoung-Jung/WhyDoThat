{
 "metadata": {
  "language_info": {
   "codemirror_mode": {
    "name": "ipython",
    "version": 3
   },
   "file_extension": ".py",
   "mimetype": "text/x-python",
   "name": "python",
   "nbconvert_exporter": "python",
   "pygments_lexer": "ipython3",
   "version": "3.6.9-final"
  },
  "orig_nbformat": 2,
  "kernelspec": {
   "name": "python36964bit844da87d3fbc4bdcbcc13070c748c407",
   "display_name": "Python 3.6.9 64-bit",
   "language": "python"
  }
 },
 "nbformat": 4,
 "nbformat_minor": 2,
 "cells": [
  {
   "cell_type": "code",
   "execution_count": 1,
   "metadata": {},
   "outputs": [],
   "source": [
    "data = '\\n      피플펀드컴퍼니\\n        '"
   ]
  },
  {
   "cell_type": "code",
   "execution_count": 6,
   "metadata": {},
   "outputs": [
    {
     "output_type": "execute_result",
     "data": {
      "text/plain": [
       "'피플펀드컴퍼니'"
      ]
     },
     "metadata": {},
     "execution_count": 6
    }
   ],
   "source": [
    "data.replace(' ','')"
   ]
  },
  {
   "cell_type": "code",
   "execution_count": 3,
   "metadata": {},
   "outputs": [
    {
     "output_type": "execute_result",
     "data": {
      "text/plain": [
       "'      피플펀드컴퍼니        '"
      ]
     },
     "metadata": {},
     "execution_count": 3
    }
   ],
   "source": [
    "data.replace('\\n','')"
   ]
  },
  {
   "cell_type": "code",
   "execution_count": 4,
   "metadata": {},
   "outputs": [],
   "source": [
    "data = '피플펀드컴퍼니'"
   ]
  },
  {
   "cell_type": "code",
   "execution_count": 13,
   "metadata": {},
   "outputs": [
    {
     "output_type": "execute_result",
     "data": {
      "text/plain": [
       "['background-image: url(\"https://static.wanted.co.kr/images/company/1244/vkhrfhzg3uawmkur__1080_790.jpg\"); padding-bottom: 23.3333%; width: 33.3333%;',\n",
       " 'background-image: url(\"https://static.wanted.co.kr/images/company/1244/op69bnmkrryneeeu__1080_790.jpg\"); padding-bottom: 23.3333%; width: 33.3333%;',\n",
       " 'background-image: url(\"https://static.wanted.co.kr/images/company/1244/13278_2_1.45dc36ff__1080_790.jpg\"); padding-bottom: 23.3333%; width: 33.3333%;']"
      ]
     },
     "metadata": {},
     "execution_count": 13
    }
   ],
   "source": [
    "['background-image: '\n",
    "'url(\"https://static.wanted.co.kr/images/company/1244/vkhrfhzg3uawmkur__1080_790.jpg\"); '\n",
    "'padding-bottom: 23.3333%; width: 33.3333%;',\n",
    "'background-image: '\n",
    "'url(\"https://static.wanted.co.kr/images/company/1244/op69bnmkrryneeeu__1080_790.jpg\"); '\n",
    "'padding-bottom: 23.3333%; width: 33.3333%;',\n",
    "'background-image: '\n",
    "'url(\"https://static.wanted.co.kr/images/company/1244/13278_2_1.45dc36ff__1080_790.jpg\"); '\n",
    "'padding-bottom: 23.3333%; width: 33.3333%;']"
   ]
  },
  {
   "cell_type": "code",
   "execution_count": null,
   "metadata": {},
   "outputs": [],
   "source": []
  }
 ]
}